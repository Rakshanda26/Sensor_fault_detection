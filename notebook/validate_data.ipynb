{
 "cells": [
  {
   "cell_type": "code",
   "execution_count": 3,
   "metadata": {},
   "outputs": [],
   "source": [
    "from scipy import stats\n",
    "import numpy as np\n",
    "rng = np.random.default_rng()\n",
    "sample1= stats.uniform.rvs(size=100,random_state=rng)\n",
    "sample2= stats.norm.rvs(size=110,random_state=rng)\n",
    "response= stats.ks_2samp(sample1,sample2)"
   ]
  },
  {
   "cell_type": "code",
   "execution_count": 4,
   "metadata": {},
   "outputs": [
    {
     "data": {
      "text/plain": [
       "KstestResult(statistic=0.5, pvalue=1.8772727817852512e-12, statistic_location=-0.07794848585426978, statistic_sign=-1)"
      ]
     },
     "execution_count": 4,
     "metadata": {},
     "output_type": "execute_result"
    }
   ],
   "source": [
    "response"
   ]
  },
  {
   "cell_type": "code",
   "execution_count": 5,
   "metadata": {},
   "outputs": [
    {
     "data": {
      "text/plain": [
       "1.8772727817852512e-12"
      ]
     },
     "execution_count": 5,
     "metadata": {},
     "output_type": "execute_result"
    }
   ],
   "source": [
    "response.pvalue"
   ]
  },
  {
   "cell_type": "code",
   "execution_count": 6,
   "metadata": {},
   "outputs": [
    {
     "ename": "SyntaxError",
     "evalue": "invalid syntax (2727483314.py, line 1)",
     "output_type": "error",
     "traceback": [
      "\u001b[0;36m  Cell \u001b[0;32mIn[6], line 1\u001b[0;36m\u001b[0m\n\u001b[0;31m    p value <0.05 - reject\u001b[0m\n\u001b[0m      ^\u001b[0m\n\u001b[0;31mSyntaxError\u001b[0m\u001b[0;31m:\u001b[0m invalid syntax\n"
     ]
    }
   ],
   "source": [
    "p value <0.05 - reject\n",
    "p value >0.05 - accept"
   ]
  },
  {
   "cell_type": "code",
   "execution_count": null,
   "metadata": {},
   "outputs": [
    {
     "data": {
      "text/plain": [
       "0"
      ]
     },
     "execution_count": 4,
     "metadata": {},
     "output_type": "execute_result"
    }
   ],
   "source": [
    "round(response.pvalue)"
   ]
  },
  {
   "cell_type": "code",
   "execution_count": 7,
   "metadata": {},
   "outputs": [
    {
     "data": {
      "text/plain": [
       "0.0"
      ]
     },
     "execution_count": 7,
     "metadata": {},
     "output_type": "execute_result"
    }
   ],
   "source": [
    "round(response.pvalue,2)"
   ]
  },
  {
   "cell_type": "code",
   "execution_count": 8,
   "metadata": {},
   "outputs": [
    {
     "data": {
      "text/plain": [
       "1.8773e-12"
      ]
     },
     "execution_count": 8,
     "metadata": {},
     "output_type": "execute_result"
    }
   ],
   "source": [
    "round(response.pvalue,16)"
   ]
  },
  {
   "cell_type": "code",
   "execution_count": 9,
   "metadata": {},
   "outputs": [],
   "source": [
    "# Anomly in my detection\n",
    "# 1. High null value\n",
    "# 2. Missing column\n",
    "# 3. outlier\n",
    "# 4. categorical\n",
    "# 5 Gender--> male, female, other (new values came need to drop)\n",
    "# Target drift= \n",
    "# concept drift = relationship between target variable and input feature changes"
   ]
  },
  {
   "cell_type": "code",
   "execution_count": 10,
   "metadata": {},
   "outputs": [],
   "source": [
    "import pandas as pd"
   ]
  },
  {
   "cell_type": "code",
   "execution_count": 11,
   "metadata": {},
   "outputs": [],
   "source": [
    "df = pd.read_csv(\"/config/workspace/aps_failure_training_set1.csv\")"
   ]
  },
  {
   "cell_type": "code",
   "execution_count": 12,
   "metadata": {},
   "outputs": [
    {
     "data": {
      "text/plain": [
       "class     0\n",
       "aa_000    0\n",
       "ab_000    0\n",
       "ac_000    0\n",
       "ad_000    0\n",
       "         ..\n",
       "ee_007    0\n",
       "ee_008    0\n",
       "ee_009    0\n",
       "ef_000    0\n",
       "eg_000    0\n",
       "Length: 171, dtype: int64"
      ]
     },
     "execution_count": 12,
     "metadata": {},
     "output_type": "execute_result"
    }
   ],
   "source": [
    "df.isnull().sum()"
   ]
  },
  {
   "cell_type": "code",
   "execution_count": 13,
   "metadata": {},
   "outputs": [
    {
     "data": {
      "text/plain": [
       "class     0.0\n",
       "aa_000    0.0\n",
       "ab_000    0.0\n",
       "ac_000    0.0\n",
       "ad_000    0.0\n",
       "         ... \n",
       "ee_007    0.0\n",
       "ee_008    0.0\n",
       "ee_009    0.0\n",
       "ef_000    0.0\n",
       "eg_000    0.0\n",
       "Length: 171, dtype: float64"
      ]
     },
     "execution_count": 13,
     "metadata": {},
     "output_type": "execute_result"
    }
   ],
   "source": [
    "df.isnull().sum()/df.shape[0]"
   ]
  },
  {
   "cell_type": "code",
   "execution_count": 14,
   "metadata": {},
   "outputs": [
    {
     "data": {
      "text/plain": [
       "array([0., 0., 0., 0., 0., 0., 0., 0., 0., 0., 0., 0., 0., 0., 0., 0., 0.,\n",
       "       0., 0., 0., 0., 0., 0., 0., 0., 0., 0., 0., 0., 0., 0., 0., 0., 0.,\n",
       "       0., 0., 0., 0., 0., 0., 0., 0., 0., 0., 0., 0., 0., 0., 0., 0., 0.,\n",
       "       0., 0., 0., 0., 0., 0., 0., 0., 0., 0., 0., 0., 0., 0., 0., 0., 0.,\n",
       "       0., 0., 0., 0., 0., 0., 0., 0., 0., 0., 0., 0., 0., 0., 0., 0., 0.,\n",
       "       0., 0., 0., 0., 0., 0., 0., 0., 0., 0., 0., 0., 0., 0., 0., 0., 0.,\n",
       "       0., 0., 0., 0., 0., 0., 0., 0., 0., 0., 0., 0., 0., 0., 0., 0., 0.,\n",
       "       0., 0., 0., 0., 0., 0., 0., 0., 0., 0., 0., 0., 0., 0., 0., 0., 0.,\n",
       "       0., 0., 0., 0., 0., 0., 0., 0., 0., 0., 0., 0., 0., 0., 0., 0., 0.,\n",
       "       0., 0., 0., 0., 0., 0., 0., 0., 0., 0., 0., 0., 0., 0., 0., 0., 0.,\n",
       "       0.])"
      ]
     },
     "execution_count": 14,
     "metadata": {},
     "output_type": "execute_result"
    }
   ],
   "source": [
    "(df.isnull().sum()/df.shape[0]).values"
   ]
  },
  {
   "cell_type": "code",
   "execution_count": 15,
   "metadata": {},
   "outputs": [
    {
     "data": {
      "text/plain": [
       "171"
      ]
     },
     "execution_count": 15,
     "metadata": {},
     "output_type": "execute_result"
    }
   ],
   "source": [
    "(df.isnull().sum()/df.shape[0]).values.__len__()"
   ]
  },
  {
   "cell_type": "code",
   "execution_count": 16,
   "metadata": {},
   "outputs": [
    {
     "data": {
      "text/plain": [
       "(Index(['class', 'aa_000', 'ab_000', 'ac_000', 'ad_000', 'ae_000', 'af_000',\n",
       "        'ag_000', 'ag_001', 'ag_002',\n",
       "        ...\n",
       "        'ee_002', 'ee_003', 'ee_004', 'ee_005', 'ee_006', 'ee_007', 'ee_008',\n",
       "        'ee_009', 'ef_000', 'eg_000'],\n",
       "       dtype='object', length=171),\n",
       " array([0., 0., 0., 0., 0., 0., 0., 0., 0., 0., 0., 0., 0., 0., 0., 0., 0.,\n",
       "        0., 0., 0., 0., 0., 0., 0., 0., 0., 0., 0., 0., 0., 0., 0., 0., 0.,\n",
       "        0., 0., 0., 0., 0., 0., 0., 0., 0., 0., 0., 0., 0., 0., 0., 0., 0.,\n",
       "        0., 0., 0., 0., 0., 0., 0., 0., 0., 0., 0., 0., 0., 0., 0., 0., 0.,\n",
       "        0., 0., 0., 0., 0., 0., 0., 0., 0., 0., 0., 0., 0., 0., 0., 0., 0.,\n",
       "        0., 0., 0., 0., 0., 0., 0., 0., 0., 0., 0., 0., 0., 0., 0., 0., 0.,\n",
       "        0., 0., 0., 0., 0., 0., 0., 0., 0., 0., 0., 0., 0., 0., 0., 0., 0.,\n",
       "        0., 0., 0., 0., 0., 0., 0., 0., 0., 0., 0., 0., 0., 0., 0., 0., 0.,\n",
       "        0., 0., 0., 0., 0., 0., 0., 0., 0., 0., 0., 0., 0., 0., 0., 0., 0.,\n",
       "        0., 0., 0., 0., 0., 0., 0., 0., 0., 0., 0., 0., 0., 0., 0., 0., 0.,\n",
       "        0.]))"
      ]
     },
     "execution_count": 16,
     "metadata": {},
     "output_type": "execute_result"
    }
   ],
   "source": [
    "(df.isnull().sum()/df.shape[0]).index,  (df.isnull().sum()/df.shape[0]).values"
   ]
  },
  {
   "cell_type": "code",
   "execution_count": 17,
   "metadata": {},
   "outputs": [
    {
     "data": {
      "text/plain": [
       "171"
      ]
     },
     "execution_count": 17,
     "metadata": {},
     "output_type": "execute_result"
    }
   ],
   "source": [
    "len((df.isnull().sum()/df.shape[0]).values)"
   ]
  },
  {
   "cell_type": "code",
   "execution_count": 18,
   "metadata": {},
   "outputs": [
    {
     "data": {
      "text/plain": [
       "171"
      ]
     },
     "execution_count": 18,
     "metadata": {},
     "output_type": "execute_result"
    }
   ],
   "source": [
    "len((df.isnull().sum()/df.shape[0]).index)"
   ]
  },
  {
   "cell_type": "code",
   "execution_count": 19,
   "metadata": {},
   "outputs": [
    {
     "name": "stdout",
     "output_type": "stream",
     "text": [
      "class 0.0\n",
      "aa_000 0.0\n",
      "ab_000 0.0\n",
      "ac_000 0.0\n",
      "ad_000 0.0\n",
      "ae_000 0.0\n",
      "af_000 0.0\n",
      "ag_000 0.0\n",
      "ag_001 0.0\n",
      "ag_002 0.0\n",
      "ag_003 0.0\n",
      "ag_004 0.0\n",
      "ag_005 0.0\n",
      "ag_006 0.0\n",
      "ag_007 0.0\n",
      "ag_008 0.0\n",
      "ag_009 0.0\n",
      "ah_000 0.0\n",
      "ai_000 0.0\n",
      "aj_000 0.0\n",
      "ak_000 0.0\n",
      "al_000 0.0\n",
      "am_0 0.0\n",
      "an_000 0.0\n",
      "ao_000 0.0\n",
      "ap_000 0.0\n",
      "aq_000 0.0\n",
      "ar_000 0.0\n",
      "as_000 0.0\n",
      "at_000 0.0\n",
      "au_000 0.0\n",
      "av_000 0.0\n",
      "ax_000 0.0\n",
      "ay_000 0.0\n",
      "ay_001 0.0\n",
      "ay_002 0.0\n",
      "ay_003 0.0\n",
      "ay_004 0.0\n",
      "ay_005 0.0\n",
      "ay_006 0.0\n",
      "ay_007 0.0\n",
      "ay_008 0.0\n",
      "ay_009 0.0\n",
      "az_000 0.0\n",
      "az_001 0.0\n",
      "az_002 0.0\n",
      "az_003 0.0\n",
      "az_004 0.0\n",
      "az_005 0.0\n",
      "az_006 0.0\n",
      "az_007 0.0\n",
      "az_008 0.0\n",
      "az_009 0.0\n",
      "ba_000 0.0\n",
      "ba_001 0.0\n",
      "ba_002 0.0\n",
      "ba_003 0.0\n",
      "ba_004 0.0\n",
      "ba_005 0.0\n",
      "ba_006 0.0\n",
      "ba_007 0.0\n",
      "ba_008 0.0\n",
      "ba_009 0.0\n",
      "bb_000 0.0\n",
      "bc_000 0.0\n",
      "bd_000 0.0\n",
      "be_000 0.0\n",
      "bf_000 0.0\n",
      "bg_000 0.0\n",
      "bh_000 0.0\n",
      "bi_000 0.0\n",
      "bj_000 0.0\n",
      "bk_000 0.0\n",
      "bl_000 0.0\n",
      "bm_000 0.0\n",
      "bn_000 0.0\n",
      "bo_000 0.0\n",
      "bp_000 0.0\n",
      "bq_000 0.0\n",
      "br_000 0.0\n",
      "bs_000 0.0\n",
      "bt_000 0.0\n",
      "bu_000 0.0\n",
      "bv_000 0.0\n",
      "bx_000 0.0\n",
      "by_000 0.0\n",
      "bz_000 0.0\n",
      "ca_000 0.0\n",
      "cb_000 0.0\n",
      "cc_000 0.0\n",
      "cd_000 0.0\n",
      "ce_000 0.0\n",
      "cf_000 0.0\n",
      "cg_000 0.0\n",
      "ch_000 0.0\n",
      "ci_000 0.0\n",
      "cj_000 0.0\n",
      "ck_000 0.0\n",
      "cl_000 0.0\n",
      "cm_000 0.0\n",
      "cn_000 0.0\n",
      "cn_001 0.0\n",
      "cn_002 0.0\n",
      "cn_003 0.0\n",
      "cn_004 0.0\n",
      "cn_005 0.0\n",
      "cn_006 0.0\n",
      "cn_007 0.0\n",
      "cn_008 0.0\n",
      "cn_009 0.0\n",
      "co_000 0.0\n",
      "cp_000 0.0\n",
      "cq_000 0.0\n",
      "cr_000 0.0\n",
      "cs_000 0.0\n",
      "cs_001 0.0\n",
      "cs_002 0.0\n",
      "cs_003 0.0\n",
      "cs_004 0.0\n",
      "cs_005 0.0\n",
      "cs_006 0.0\n",
      "cs_007 0.0\n",
      "cs_008 0.0\n",
      "cs_009 0.0\n",
      "ct_000 0.0\n",
      "cu_000 0.0\n",
      "cv_000 0.0\n",
      "cx_000 0.0\n",
      "cy_000 0.0\n",
      "cz_000 0.0\n",
      "da_000 0.0\n",
      "db_000 0.0\n",
      "dc_000 0.0\n",
      "dd_000 0.0\n",
      "de_000 0.0\n",
      "df_000 0.0\n",
      "dg_000 0.0\n",
      "dh_000 0.0\n",
      "di_000 0.0\n",
      "dj_000 0.0\n",
      "dk_000 0.0\n",
      "dl_000 0.0\n",
      "dm_000 0.0\n",
      "dn_000 0.0\n",
      "do_000 0.0\n",
      "dp_000 0.0\n",
      "dq_000 0.0\n",
      "dr_000 0.0\n",
      "ds_000 0.0\n",
      "dt_000 0.0\n",
      "du_000 0.0\n",
      "dv_000 0.0\n",
      "dx_000 0.0\n",
      "dy_000 0.0\n",
      "dz_000 0.0\n",
      "ea_000 0.0\n",
      "eb_000 0.0\n",
      "ec_00 0.0\n",
      "ed_000 0.0\n",
      "ee_000 0.0\n",
      "ee_001 0.0\n",
      "ee_002 0.0\n",
      "ee_003 0.0\n",
      "ee_004 0.0\n",
      "ee_005 0.0\n",
      "ee_006 0.0\n",
      "ee_007 0.0\n",
      "ee_008 0.0\n",
      "ee_009 0.0\n",
      "ef_000 0.0\n",
      "eg_000 0.0\n"
     ]
    }
   ],
   "source": [
    "for column_name,missing_percentage in zip((df.isnull().sum()/df.shape[0]).index,  (df.isnull().sum()/df.shape[0]).values):\n",
    "    print(column_name,missing_percentage*100)"
   ]
  },
  {
   "cell_type": "code",
   "execution_count": 20,
   "metadata": {},
   "outputs": [
    {
     "name": "stdout",
     "output_type": "stream",
     "text": [
      "1 4\n",
      "2 5\n",
      "3 6\n",
      "4 7\n"
     ]
    }
   ],
   "source": [
    "l1=[1,2,3,4]\n",
    "l2=[4,5,6,7]\n",
    "\n",
    "for l1_val,l2_val in zip(l1,l2):\n",
    "    print(l1_val, l2_val)"
   ]
  },
  {
   "cell_type": "code",
   "execution_count": 21,
   "metadata": {},
   "outputs": [
    {
     "name": "stdout",
     "output_type": "stream",
     "text": [
      "class 0.0\n",
      "aa_000 0.0\n",
      "ab_000 0.0\n",
      "ac_000 0.0\n",
      "ad_000 0.0\n",
      "ae_000 0.0\n",
      "af_000 0.0\n",
      "ag_000 0.0\n",
      "ag_001 0.0\n",
      "ag_002 0.0\n",
      "ag_003 0.0\n",
      "ag_004 0.0\n",
      "ag_005 0.0\n",
      "ag_006 0.0\n",
      "ag_007 0.0\n",
      "ag_008 0.0\n",
      "ag_009 0.0\n",
      "ah_000 0.0\n",
      "ai_000 0.0\n",
      "aj_000 0.0\n",
      "ak_000 0.0\n",
      "al_000 0.0\n",
      "am_0 0.0\n",
      "an_000 0.0\n",
      "ao_000 0.0\n",
      "ap_000 0.0\n",
      "aq_000 0.0\n",
      "ar_000 0.0\n",
      "as_000 0.0\n",
      "at_000 0.0\n",
      "au_000 0.0\n",
      "av_000 0.0\n",
      "ax_000 0.0\n",
      "ay_000 0.0\n",
      "ay_001 0.0\n",
      "ay_002 0.0\n",
      "ay_003 0.0\n",
      "ay_004 0.0\n",
      "ay_005 0.0\n",
      "ay_006 0.0\n",
      "ay_007 0.0\n",
      "ay_008 0.0\n",
      "ay_009 0.0\n",
      "az_000 0.0\n",
      "az_001 0.0\n",
      "az_002 0.0\n",
      "az_003 0.0\n",
      "az_004 0.0\n",
      "az_005 0.0\n",
      "az_006 0.0\n",
      "az_007 0.0\n",
      "az_008 0.0\n",
      "az_009 0.0\n",
      "ba_000 0.0\n",
      "ba_001 0.0\n",
      "ba_002 0.0\n",
      "ba_003 0.0\n",
      "ba_004 0.0\n",
      "ba_005 0.0\n",
      "ba_006 0.0\n",
      "ba_007 0.0\n",
      "ba_008 0.0\n",
      "ba_009 0.0\n",
      "bb_000 0.0\n",
      "bc_000 0.0\n",
      "bd_000 0.0\n",
      "be_000 0.0\n",
      "bf_000 0.0\n",
      "bg_000 0.0\n",
      "bh_000 0.0\n",
      "bi_000 0.0\n",
      "bj_000 0.0\n",
      "bk_000 0.0\n",
      "bl_000 0.0\n",
      "bm_000 0.0\n",
      "bn_000 0.0\n",
      "bo_000 0.0\n",
      "bp_000 0.0\n",
      "bq_000 0.0\n",
      "br_000 0.0\n",
      "bs_000 0.0\n",
      "bt_000 0.0\n",
      "bu_000 0.0\n",
      "bv_000 0.0\n",
      "bx_000 0.0\n",
      "by_000 0.0\n",
      "bz_000 0.0\n",
      "ca_000 0.0\n",
      "cb_000 0.0\n",
      "cc_000 0.0\n",
      "cd_000 0.0\n",
      "ce_000 0.0\n",
      "cf_000 0.0\n",
      "cg_000 0.0\n",
      "ch_000 0.0\n",
      "ci_000 0.0\n",
      "cj_000 0.0\n",
      "ck_000 0.0\n",
      "cl_000 0.0\n",
      "cm_000 0.0\n",
      "cn_000 0.0\n",
      "cn_001 0.0\n",
      "cn_002 0.0\n",
      "cn_003 0.0\n",
      "cn_004 0.0\n",
      "cn_005 0.0\n",
      "cn_006 0.0\n",
      "cn_007 0.0\n",
      "cn_008 0.0\n",
      "cn_009 0.0\n",
      "co_000 0.0\n",
      "cp_000 0.0\n",
      "cq_000 0.0\n",
      "cr_000 0.0\n",
      "cs_000 0.0\n",
      "cs_001 0.0\n",
      "cs_002 0.0\n",
      "cs_003 0.0\n",
      "cs_004 0.0\n",
      "cs_005 0.0\n",
      "cs_006 0.0\n",
      "cs_007 0.0\n",
      "cs_008 0.0\n",
      "cs_009 0.0\n",
      "ct_000 0.0\n",
      "cu_000 0.0\n",
      "cv_000 0.0\n",
      "cx_000 0.0\n",
      "cy_000 0.0\n",
      "cz_000 0.0\n",
      "da_000 0.0\n",
      "db_000 0.0\n",
      "dc_000 0.0\n",
      "dd_000 0.0\n",
      "de_000 0.0\n",
      "df_000 0.0\n",
      "dg_000 0.0\n",
      "dh_000 0.0\n",
      "di_000 0.0\n",
      "dj_000 0.0\n",
      "dk_000 0.0\n",
      "dl_000 0.0\n",
      "dm_000 0.0\n",
      "dn_000 0.0\n",
      "do_000 0.0\n",
      "dp_000 0.0\n",
      "dq_000 0.0\n",
      "dr_000 0.0\n",
      "ds_000 0.0\n",
      "dt_000 0.0\n",
      "du_000 0.0\n",
      "dv_000 0.0\n",
      "dx_000 0.0\n",
      "dy_000 0.0\n",
      "dz_000 0.0\n",
      "ea_000 0.0\n",
      "eb_000 0.0\n",
      "ec_00 0.0\n",
      "ed_000 0.0\n",
      "ee_000 0.0\n",
      "ee_001 0.0\n",
      "ee_002 0.0\n",
      "ee_003 0.0\n",
      "ee_004 0.0\n",
      "ee_005 0.0\n",
      "ee_006 0.0\n",
      "ee_007 0.0\n",
      "ee_008 0.0\n",
      "ee_009 0.0\n",
      "ef_000 0.0\n",
      "eg_000 0.0\n"
     ]
    }
   ],
   "source": [
    "drop_column_names=[]\n",
    "for column_name,missing_percentage in zip((df.isnull().sum()/df.shape[0]).index,  (df.isnull().sum()/df.shape[0]).values):\n",
    "    print(column_name,missing_percentage*100)\n",
    "    if missing_percentage>0.3:\n",
    "        drop_column_names.append(column_name)"
   ]
  },
  {
   "cell_type": "code",
   "execution_count": 22,
   "metadata": {},
   "outputs": [],
   "source": [
    "drop_column_names=[]"
   ]
  },
  {
   "cell_type": "code",
   "execution_count": 23,
   "metadata": {},
   "outputs": [
    {
     "data": {
      "text/plain": [
       "class     False\n",
       "aa_000    False\n",
       "ab_000    False\n",
       "ac_000    False\n",
       "ad_000    False\n",
       "          ...  \n",
       "ee_007    False\n",
       "ee_008    False\n",
       "ee_009    False\n",
       "ef_000    False\n",
       "eg_000    False\n",
       "Length: 171, dtype: bool"
      ]
     },
     "execution_count": 23,
     "metadata": {},
     "output_type": "execute_result"
    }
   ],
   "source": [
    "df.isna().sum()/df.shape[0]>0.03"
   ]
  },
  {
   "cell_type": "code",
   "execution_count": 25,
   "metadata": {},
   "outputs": [],
   "source": [
    "null_report = df.isna().sum()/df.shape[0]"
   ]
  },
  {
   "cell_type": "code",
   "execution_count": 27,
   "metadata": {},
   "outputs": [
    {
     "data": {
      "text/plain": [
       "Series([], dtype: float64)"
      ]
     },
     "execution_count": 27,
     "metadata": {},
     "output_type": "execute_result"
    }
   ],
   "source": [
    "null_report[null_report>0.3]"
   ]
  },
  {
   "cell_type": "code",
   "execution_count": 34,
   "metadata": {},
   "outputs": [
    {
     "data": {
      "text/plain": [
       "Index([], dtype='object')"
      ]
     },
     "execution_count": 34,
     "metadata": {},
     "output_type": "execute_result"
    }
   ],
   "source": [
    "null_report[null_report>0.7].index"
   ]
  },
  {
   "cell_type": "code",
   "execution_count": 35,
   "metadata": {},
   "outputs": [
    {
     "data": {
      "text/plain": [
       "0        pos\n",
       "1        pos\n",
       "2        pos\n",
       "3        pos\n",
       "4        pos\n",
       "        ... \n",
       "36183    neg\n",
       "36184    neg\n",
       "36185    neg\n",
       "36186    neg\n",
       "36187    neg\n",
       "Name: class, Length: 36188, dtype: object"
      ]
     },
     "execution_count": 35,
     "metadata": {},
     "output_type": "execute_result"
    }
   ],
   "source": [
    "df.iloc[:,0]"
   ]
  },
  {
   "cell_type": "code",
   "execution_count": 36,
   "metadata": {},
   "outputs": [
    {
     "data": {
      "text/plain": [
       "0"
      ]
     },
     "execution_count": 36,
     "metadata": {},
     "output_type": "execute_result"
    }
   ],
   "source": [
    "len(df.iloc[:,[0]].drop(\"class\", axis=1).columns)"
   ]
  },
  {
   "cell_type": "code",
   "execution_count": 37,
   "metadata": {},
   "outputs": [],
   "source": [
    "import os"
   ]
  },
  {
   "cell_type": "code",
   "execution_count": 38,
   "metadata": {},
   "outputs": [
    {
     "data": {
      "text/plain": [
       "'/config/workspace/aps_failure_training_set1.csv'"
      ]
     },
     "execution_count": 38,
     "metadata": {},
     "output_type": "execute_result"
    }
   ],
   "source": [
    "os.path.join(\"/config/workspace/aps_failure_training_set1.csv\")"
   ]
  },
  {
   "cell_type": "code",
   "execution_count": null,
   "metadata": {},
   "outputs": [],
   "source": []
  }
 ],
 "metadata": {
  "kernelspec": {
   "display_name": "Python 3.8.10 64-bit",
   "language": "python",
   "name": "python3"
  },
  "language_info": {
   "codemirror_mode": {
    "name": "ipython",
    "version": 3
   },
   "file_extension": ".py",
   "mimetype": "text/x-python",
   "name": "python",
   "nbconvert_exporter": "python",
   "pygments_lexer": "ipython3",
   "version": "3.8.10"
  },
  "orig_nbformat": 4,
  "vscode": {
   "interpreter": {
    "hash": "e7370f93d1d0cde622a1f8e1c04877d8463912d04d973331ad4851f04de6915a"
   }
  }
 },
 "nbformat": 4,
 "nbformat_minor": 2
}
